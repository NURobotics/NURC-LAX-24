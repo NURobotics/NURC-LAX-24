{
 "cells": [
  {
   "cell_type": "markdown",
   "metadata": {},
   "source": [
    "# NFL Jersey Number Recognition to Track Players"
   ]
  },
  {
   "cell_type": "markdown",
   "metadata": {},
   "source": [
    "# Recognise jersey numbers in new video frames"
   ]
  },
  {
   "cell_type": "code",
   "execution_count": null,
   "metadata": {
    "execution": {
     "iopub.execute_input": "2021-08-17T17:16:03.925861Z",
     "iopub.status.busy": "2021-08-17T17:16:03.925493Z",
     "iopub.status.idle": "2021-08-17T17:16:04.093808Z",
     "shell.execute_reply": "2021-08-17T17:16:04.092947Z",
     "shell.execute_reply.started": "2021-08-17T17:16:03.925828Z"
    }
   },
   "outputs": [],
   "source": [
    "test_helmet_df = pd.read_csv(\"../input/nfl-health-and-safety-helmet-assignment/test_baseline_helmets.csv\")\n",
    "test_tracking_df = pd.read_csv(\"../input/nfl-health-and-safety-helmet-assignment/test_player_tracking.csv\")"
   ]
  },
  {
   "cell_type": "code",
   "execution_count": 1,
   "metadata": {
    "execution": {
     "iopub.execute_input": "2021-08-17T17:16:04.454787Z",
     "iopub.status.busy": "2021-08-17T17:16:04.454425Z",
     "iopub.status.idle": "2021-08-17T17:16:04.469614Z",
     "shell.execute_reply": "2021-08-17T17:16:04.468767Z",
     "shell.execute_reply.started": "2021-08-17T17:16:04.454754Z"
    }
   },
   "outputs": [],
   "source": [
    "def find_team(jersey_number, video_frame_name):\n",
    "    '''\n",
    "    find to which team a player belong based on the jersey number\n",
    "    return None if we have 2 players with the same number on the pitch\n",
    "    '''\n",
    "    \n",
    "    game_id = int(video_frame_name.split(\"_\")[0])\n",
    "    play_id = int(video_frame_name.split(\"_\")[1])\n",
    "    player_list = test_tracking_df.query(\"gameKey==@game_id and playID==@play_id\").player.unique()\n",
    "    possible_players = [player_code for player_code in player_list if jersey_number==int(player_code[1:])]\n",
    "\n",
    "    if len(possible_players)==1:\n",
    "        return possible_players[0]\n",
    "    else:\n",
    "        return None\n",
    "\n",
    "def extract_player_jersey(video_frame_name, display=False):\n",
    "    '''\n",
    "    Get the helmet boxes for a frame and apply the model.\n",
    "    If a player is predicted twice, keeps the prediction\n",
    "    with the highest confidence score.\n",
    "    '''\n",
    "    \n",
    "    predictions = []\n",
    "    img = np.array(Image.open(test_frames_folder+\"/\"+str(video_frame_name)))\n",
    "    frame_df = test_helmet_df[test_helmet_df[\"video_frame\"]==video_frame_name.replace(\".png\",\"\")]\n",
    "\n",
    "    baseline_boxes = np.array([np.array([row.left, row.top, row.left+row.width, row.top+row.height ])  for idx, row in frame_df.iterrows()])\n",
    "    for idx, box in enumerate(baseline_boxes):\n",
    "        box_centre = int(box[0]+round((box[2]-box[0])/2))\n",
    "        jersey_box = img[box[3]-24:box[3]+40,box_centre-32:box_centre+32,:]\n",
    "        \n",
    "        if jersey_box.shape==(64,64,3):\n",
    "            result = model.predict(np.array([np.array(jersey_box)]))\n",
    "            predicted_jersey_number = np.argmax(result)\n",
    "            confidence = result[0][np.argmax(result)] \n",
    "            confidence_threshold = 0.90\n",
    "\n",
    "            if confidence>confidence_threshold:\n",
    "                predicted_player_code = find_team(predicted_jersey_number, video_frame_name)\n",
    "                \n",
    "                if predicted_player_code is not None:\n",
    "                    player_already_detected = [(i, item) for i, item in enumerate(predictions) if item[\"label\"] == predicted_player_code]\n",
    "                    prediction_data = {\"video_frame\":video_frame_name.replace(\".png\",\"\"), \n",
    "                                            \"label\":predicted_player_code,\n",
    "                                            \"left\":frame_df.iloc[idx].left,\n",
    "                                            \"width\":frame_df.iloc[idx].width,\t\n",
    "                                            \"top\":frame_df.iloc[idx].top,\n",
    "                                            \"height\":frame_df.iloc[idx].height,\n",
    "                                            \"confidence\":confidence}\n",
    "                    \n",
    "                    if player_already_detected==[]:\n",
    "                        predictions.append(prediction_data)\n",
    "                    else:\n",
    "                        if player_already_detected[0][1]['confidence']<confidence:\n",
    "                            dict_index_to_remove = player_already_detected[0][0]\n",
    "                            del predictions[dict_index_to_remove]\n",
    "                            predictions.append(prediction_data)\n",
    "                    \n",
    "                    if display:\n",
    "                        print(predicted_player_code, confidence)\n",
    "                        plt.imshow(jersey_box)\n",
    "                        plt.show()\n",
    "        \n",
    "    return predictions"
   ]
  },
  {
   "cell_type": "markdown",
   "metadata": {},
   "source": [
    "For this run, we'll only apply prediction on the frames taken from the endzone as the jerseys are often easier to see."
   ]
  },
  {
   "cell_type": "code",
   "execution_count": null,
   "metadata": {
    "execution": {
     "iopub.execute_input": "2021-08-17T17:18:04.341894Z",
     "iopub.status.busy": "2021-08-17T17:18:04.341495Z",
     "iopub.status.idle": "2021-08-17T17:18:04.350325Z",
     "shell.execute_reply": "2021-08-17T17:18:04.349218Z",
     "shell.execute_reply.started": "2021-08-17T17:18:04.341859Z"
    }
   },
   "outputs": [],
   "source": [
    "test_frames_folder = 'womens_lax_test_data1'\n",
    "frame_list = os.listdir(test_frames_folder)\n",
    "random.seed(42)\n",
    "frames_to_test = random.sample(frame_list, 6) "
   ]
  },
  {
   "cell_type": "code",
   "execution_count": null,
   "metadata": {
    "execution": {
     "iopub.execute_input": "2021-08-17T17:18:04.890131Z",
     "iopub.status.busy": "2021-08-17T17:18:04.889765Z",
     "iopub.status.idle": "2021-08-17T17:18:05.967926Z",
     "shell.execute_reply": "2021-08-17T17:18:05.967122Z",
     "shell.execute_reply.started": "2021-08-17T17:18:04.890098Z"
    }
   },
   "outputs": [],
   "source": [
    "extract_player_jersey(frames_to_test[0], display=True)"
   ]
  },
  {
   "cell_type": "code",
   "execution_count": null,
   "metadata": {
    "execution": {
     "iopub.execute_input": "2021-08-17T17:18:05.969773Z",
     "iopub.status.busy": "2021-08-17T17:18:05.969413Z",
     "iopub.status.idle": "2021-08-17T17:18:07.361725Z",
     "shell.execute_reply": "2021-08-17T17:18:07.360901Z",
     "shell.execute_reply.started": "2021-08-17T17:18:05.969737Z"
    }
   },
   "outputs": [],
   "source": [
    "extract_player_jersey(frames_to_test[1], display=True)"
   ]
  },
  {
   "cell_type": "code",
   "execution_count": null,
   "metadata": {
    "execution": {
     "iopub.execute_input": "2021-08-17T17:18:07.363825Z",
     "iopub.status.busy": "2021-08-17T17:18:07.363417Z",
     "iopub.status.idle": "2021-08-17T17:18:08.379928Z",
     "shell.execute_reply": "2021-08-17T17:18:08.379138Z",
     "shell.execute_reply.started": "2021-08-17T17:18:07.363784Z"
    }
   },
   "outputs": [],
   "source": [
    "extract_player_jersey(frames_to_test[2], display=True)"
   ]
  },
  {
   "cell_type": "code",
   "execution_count": null,
   "metadata": {
    "execution": {
     "iopub.execute_input": "2021-08-17T17:18:08.381832Z",
     "iopub.status.busy": "2021-08-17T17:18:08.381465Z",
     "iopub.status.idle": "2021-08-17T17:18:09.275501Z",
     "shell.execute_reply": "2021-08-17T17:18:09.274623Z",
     "shell.execute_reply.started": "2021-08-17T17:18:08.381796Z"
    }
   },
   "outputs": [],
   "source": [
    "extract_player_jersey(frames_to_test[3], display=True)"
   ]
  },
  {
   "cell_type": "code",
   "execution_count": null,
   "metadata": {
    "execution": {
     "iopub.execute_input": "2021-08-17T17:18:14.58034Z",
     "iopub.status.busy": "2021-08-17T17:18:14.579831Z",
     "iopub.status.idle": "2021-08-17T17:18:15.910146Z",
     "shell.execute_reply": "2021-08-17T17:18:15.909326Z",
     "shell.execute_reply.started": "2021-08-17T17:18:14.580296Z"
    }
   },
   "outputs": [],
   "source": [
    "extract_player_jersey(frames_to_test[4], display=True)"
   ]
  },
  {
   "cell_type": "code",
   "execution_count": null,
   "metadata": {},
   "outputs": [],
   "source": [
    "extract_player_jersey(frames_to_test[5], display=True)"
   ]
  },
  {
   "cell_type": "markdown",
   "metadata": {},
   "source": [
    "I have created the function to submit the predictions but it's still early days to be spamming the leaderboard yet!"
   ]
  },
  {
   "cell_type": "code",
   "execution_count": null,
   "metadata": {
    "execution": {
     "iopub.execute_input": "2021-08-17T17:21:36.304265Z",
     "iopub.status.busy": "2021-08-17T17:21:36.3039Z",
     "iopub.status.idle": "2021-08-17T17:21:36.310784Z",
     "shell.execute_reply": "2021-08-17T17:21:36.309403Z",
     "shell.execute_reply.started": "2021-08-17T17:21:36.304233Z"
    }
   },
   "outputs": [],
   "source": [
    "def predict_for_submission(frame_list):\n",
    "    prediction_list = []\n",
    "    with tqdm(total=len(frame_list)) as pbar:\n",
    "        for video_frame in frame_list:\n",
    "            prediction = extract_player_jersey(video_frame)\n",
    "            prediction_list += prediction\n",
    "            pbar.update(1)\n",
    "    return pd.DataFrame(prediction_list)"
   ]
  },
  {
   "cell_type": "code",
   "execution_count": null,
   "metadata": {
    "execution": {
     "iopub.execute_input": "2021-08-17T17:21:36.762997Z",
     "iopub.status.busy": "2021-08-17T17:21:36.762621Z",
     "iopub.status.idle": "2021-08-17T17:22:05.485313Z",
     "shell.execute_reply": "2021-08-17T17:22:05.484537Z",
     "shell.execute_reply.started": "2021-08-17T17:21:36.762966Z"
    }
   },
   "outputs": [],
   "source": [
    "predict_for_submission(frame_list[:30])"
   ]
  },
  {
   "cell_type": "markdown",
   "metadata": {},
   "source": [
    "## Thanks for reading this notebook! If you found this notebook helpful, please give it an upvote. It is always greatly appreciated!"
   ]
  },
  {
   "cell_type": "code",
   "execution_count": null,
   "metadata": {
    "execution": {
     "iopub.execute_input": "2021-08-17T17:22:38.308375Z",
     "iopub.status.busy": "2021-08-17T17:22:38.308043Z",
     "iopub.status.idle": "2021-08-17T17:22:39.510507Z",
     "shell.execute_reply": "2021-08-17T17:22:39.509361Z",
     "shell.execute_reply.started": "2021-08-17T17:22:38.308348Z"
    }
   },
   "outputs": [],
   "source": [
    "!rm -rf ../working/test_frames"
   ]
  }
 ],
 "metadata": {
  "kernelspec": {
   "display_name": "Python 3 (ipykernel)",
   "language": "python",
   "name": "python3"
  },
  "language_info": {
   "codemirror_mode": {
    "name": "ipython",
    "version": 3
   },
   "file_extension": ".py",
   "mimetype": "text/x-python",
   "name": "python",
   "nbconvert_exporter": "python",
   "pygments_lexer": "ipython3",
   "version": "3.10.7"
  }
 },
 "nbformat": 4,
 "nbformat_minor": 4
}
